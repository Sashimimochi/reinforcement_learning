{
 "cells": [
  {
   "cell_type": "markdown",
   "metadata": {},
   "source": [
    "# [0] 使用するライブラリーのインポート"
   ]
  },
  {
   "cell_type": "code",
   "execution_count": 1,
   "metadata": {
    "collapsed": true
   },
   "outputs": [],
   "source": [
    "# coding:utf-8\n",
    "# [0]ライブラリのインポート\n",
    "import gym  #倒立振子(cartpole)の実行環境\n",
    "from gym import wrappers  #gymの画像保存\n",
    "import numpy as np\n",
    "import time"
   ]
  },
  {
   "cell_type": "markdown",
   "metadata": {},
   "source": [
    "# [1] Q関数を離散化して定義する関数\n",
    "### 倒立振子の状態(State)\n",
    "カートの位置(cart_pos) $[-2.4,2.4]$\n",
    "\n",
    "カートの速度(cart_v) $[-3.0,3.0]$\n",
    "\n",
    "棒の角度(pole_angle) $[-41.8,41.8]$\n",
    "\n",
    "棒の角速度(pole_v) $[-2.0,2.0]$"
   ]
  },
  {
   "cell_type": "code",
   "execution_count": 2,
   "metadata": {
    "collapsed": true
   },
   "outputs": [],
   "source": [
    "# [1]Q関数を離散化して定義する関数　------------\n",
    "# 観測した状態を離散値にデジタル変換する\n",
    "def bins(clip_min, clip_max, num):\n",
    "    return np.linspace(clip_min, clip_max, num + 1)[1:-1]\n",
    " \n",
    "# 各値を離散値に変換\n",
    "def digitize_state(observation):\n",
    "    cart_pos, cart_v, pole_angle, pole_v = observation\n",
    "    digitized = [\n",
    "        np.digitize(cart_pos, bins=bins(-2.4, 2.4, num_dizitized)),\n",
    "        np.digitize(cart_v, bins=bins(-3.0, 3.0, num_dizitized)),\n",
    "        np.digitize(pole_angle, bins=bins(-0.5, 0.5, num_dizitized)),\n",
    "        np.digitize(pole_v, bins=bins(-2.0, 2.0, num_dizitized))\n",
    "    ]\n",
    "    return sum([x * (num_dizitized**i) for i, x in enumerate(digitized)])"
   ]
  },
  {
   "cell_type": "markdown",
   "metadata": {},
   "source": [
    "# [2] 次状態$s(t+1)$で右に移動すべきか、左に動かすべきか、$Q$関数の大きい方を選ぶ\n",
    "\n",
    "### Q学習\n",
    "### $Q(S_t, A_t) = (1-\\alpha) Q(S_t, A_t) + \\alpha (R_{t+1} + \\gamma \\max_{a' \\in \\cal{A}(s')} Q(S_{t+1}, a'))$\n",
    "\n",
    "### $\\epsilon$-greedy 法\n",
    "### $ \\pi(a|s) = 1-\\epsilon+\\cfrac{\\epsilon}{|\\cal{A}(s)|} \\quad ({\\rm for}\\ a = {\\rm argmax}_a Q(s,a))\\\\\n",
    " \\pi(a|s) = \\cfrac{\\epsilon}{|{\\cal A}(s)|} \\quad ({\\rm otherwise}) $"
   ]
  },
  {
   "cell_type": "code",
   "execution_count": 3,
   "metadata": {
    "collapsed": true
   },
   "outputs": [],
   "source": [
    "# [2]行動a(t)を求める関数 -------------------------------------\n",
    "def get_action(next_state, episode):\n",
    "           #徐々に最適行動のみをとる、ε-greedy法\n",
    "    epsilon = 0.5 * (1 / (episode + 1))\n",
    "    if epsilon <= np.random.uniform(0, 1):\n",
    "        next_action = np.argmax(q_table[next_state])\n",
    "    else:\n",
    "        next_action = np.random.choice([0, 1])\n",
    "    return next_action\n",
    " \n",
    "# [3]Qテーブルを更新する関数 -------------------------------------\n",
    "def update_Qtable(q_table, state, action, reward, next_state):\n",
    "    gamma = 0.5\n",
    "    alpha = 0.5\n",
    "    next_Max_Q=max(q_table[next_state][0],q_table[next_state][1] )\n",
    "    q_table[state, action] = (1 - alpha) * q_table[state, action] +\\\n",
    "            alpha * (reward + gamma * next_Max_Q)\n",
    "   \n",
    "    return q_table"
   ]
  },
  {
   "cell_type": "markdown",
   "metadata": {},
   "source": [
    "# [4] メインプログラム\n",
    "各パラメータを定義する。状態を離散値に変換する。\n",
    "各変数を6分割し、6^4の1296状態を定義する。\n",
    "それぞれの状態に対して右or左の2通りが存在する。\n",
    "[1296×2]の行列のQ関数のテーブルを作成する。"
   ]
  },
  {
   "cell_type": "code",
   "execution_count": null,
   "metadata": {
    "collapsed": true
   },
   "outputs": [],
   "source": [
    "# [4]. メイン関数開始 パラメータ設定--------------------------------------------------------\n",
    "env = gym.make('CartPole-v0')\n",
    "max_number_of_steps = 300  #1試行のstep数\n",
    "num_consecutive_iterations = 100  #学習完了評価に使用する平均試行回数\n",
    "num_episodes = 3000  #総試行回数\n",
    "goal_average_reward = 195  #この報酬を超えると学習終了（中心への制御なし）\n",
    "# 状態を6分割^（4変数）にデジタル変換してQ関数（表）を作成\n",
    "num_dizitized = 6  #分割数\n",
    "q_table = np.random.uniform(\n",
    "    low=-1, high=1, size=(num_dizitized**4, env.action_space.n))\n",
    " \n",
    "total_reward_vec = np.zeros(num_consecutive_iterations)  #各試行の報酬を格納\n",
    "final_x = np.zeros((num_episodes, 1))  #学習後、各試行のt=200でのｘの位置を格納\n",
    "islearned = 0  #学習が終わったフラグ\n",
    "isrender = 0  #描画フラグ"
   ]
  },
  {
   "cell_type": "markdown",
   "metadata": {},
   "source": [
    "# [5] メインルーチン"
   ]
  },
  {
   "cell_type": "code",
   "execution_count": null,
   "metadata": {
    "collapsed": true
   },
   "outputs": [],
   "source": [
    "# [5] メインルーチン--------------------------------------------------\n",
    "for episode in range(num_episodes):  #試行数分繰り返す\n",
    "    # 環境の初期化\n",
    "    observation = env.reset()\n",
    "    state = digitize_state(observation)\n",
    "    action = np.argmax(q_table[state])\n",
    "    episode_reward = 0\n",
    " \n",
    "    for t in range(max_number_of_steps):  #1試行のループ\n",
    "        if islearned == 1:  #学習終了したらcartPoleを描画する\n",
    "            env.render()\n",
    "            time.sleep(0.1)\n",
    "            #print (observation[0])  #カートのx位置を出力\n",
    " \n",
    "        # 行動a_tの実行により、s_{t+1}, r_{t}などを計算する\n",
    "        observation, reward, done, info = env.step(action)\n",
    " \n",
    "        # 報酬を設定し与える\n",
    "        if done:\n",
    "            if t < 195:\n",
    "                reward = -200  #こけたら罰則\n",
    "            else:\n",
    "                reward = 1  #立ったまま終了時は罰則はなし\n",
    "        else:\n",
    "            reward = 1  #各ステップで立ってたら報酬追加\n",
    " \n",
    "        episode_reward += reward  #報酬を追加\n",
    " \n",
    "        # 離散状態s_{t+1}を求め、Q関数を更新する\n",
    "        next_state = digitize_state(observation)  #t+1での観測状態を、離散値に変換\n",
    "        q_table = update_Qtable(q_table, state, action, reward, next_state)\n",
    "        \n",
    "        #  次の行動a_{t+1}を求める \n",
    "        action = get_action(next_state, episode)    # a_{t+1} \n",
    "        \n",
    "        state = next_state\n",
    "        \n",
    "        #終了時の処理\n",
    "        if done:\n",
    "            # print('%d Episode finished after %f time steps / mean %f' %\n",
    "            #      (episode, t + 1, total_reward_vec.mean()))\n",
    "            total_reward_vec = np.hstack((total_reward_vec[1:],\n",
    "                                          episode_reward))  #報酬を記録\n",
    "            if islearned == 1:  #学習終わってたら最終のx座標を格納\n",
    "                final_x[episode, 0] = observation[0]\n",
    "            break\n",
    " \n",
    "    if (total_reward_vec.mean() >=\n",
    "            goal_average_reward):  # 直近の100エピソードが規定報酬以上であれば成功\n",
    "        #print('Episode %d train agent successfuly!' % episode)\n",
    "        islearned = 1\n",
    "        #np.savetxt('learned_Q_table.csv',q_table, delimiter=\",\") #Qtableの保存する場合\n",
    "        if isrender == 0:\n",
    "            #env = wrappers.Monitor(env, './movie/cartpole-experiment-1') #動画保存する場合\n",
    "            isrender = 1\n",
    "    #10エピソードだけでどんな挙動になるのか見たかったら、以下のコメントを外す\n",
    "    #if episode>10:\n",
    "    #    if isrender == 0:\n",
    "    #        env = wrappers.Monitor(env, './movie/cartpole-experiment-1') #動画保存する場合\n",
    "    #        isrender = 1\n",
    "    #    islearned=1;\n",
    " \n",
    "if islearned:\n",
    "    np.savetxt('final_x.csv', final_x, delimiter=\",\")"
   ]
  },
  {
   "cell_type": "code",
   "execution_count": null,
   "metadata": {
    "collapsed": true
   },
   "outputs": [],
   "source": []
  }
 ],
 "metadata": {
  "kernelspec": {
   "display_name": "Python 3",
   "language": "python",
   "name": "python3"
  },
  "language_info": {
   "codemirror_mode": {
    "name": "ipython",
    "version": 3
   },
   "file_extension": ".py",
   "mimetype": "text/x-python",
   "name": "python",
   "nbconvert_exporter": "python",
   "pygments_lexer": "ipython3",
   "version": "3.6.0"
  }
 },
 "nbformat": 4,
 "nbformat_minor": 2
}
